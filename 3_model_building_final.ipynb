{
 "cells": [
  {
   "cell_type": "markdown",
   "id": "28f0ea9e",
   "metadata": {},
   "source": [
    "# Week 3: Model Building & Prediction 🌿\n",
    "\n",
    "In this notebook:\n",
    "✅ Loaded cleaned dataset  \n",
    "✅ Split data into train and test  \n",
    "✅ Trained Random Forest model  \n",
    "✅ Evaluated performance using RMSE, MAE, R²  \n",
    "✅ Saved the trained model for Week 4 deployment  \n"
   ]
  },
  {
   "cell_type": "markdown",
   "id": "d08a9782",
   "metadata": {},
   "source": [
    "### Import Essential Libraries"
   ]
  },
  {
   "cell_type": "code",
   "execution_count": 1,
   "id": "41d37fc9",
   "metadata": {},
   "outputs": [],
   "source": [
    "import pandas as pd\n",
    "import numpy as np\n",
    "import matplotlib.pyplot as plt\n",
    "import seaborn as sns\n",
    "\n",
    "from sklearn.model_selection import train_test_split, cross_val_score\n",
    "from sklearn.ensemble import RandomForestRegressor\n",
    "from sklearn.metrics import mean_squared_error, mean_absolute_error, r2_score\n",
    "import joblib\n",
    "import time\n",
    "\n",
    "# Set global plot style\n",
    "sns.set(style='whitegrid')\n",
    "\n",
    "# Ensures reproducibility\n",
    "random_state_num = 42\n"
   ]
  },
  {
   "cell_type": "markdown",
   "id": "1a973f01",
   "metadata": {},
   "source": [
    "### Load Cleaned Dataset"
   ]
  },
  {
   "cell_type": "code",
   "execution_count": 2,
   "id": "9fcd2ca4",
   "metadata": {},
   "outputs": [
    {
     "name": "stdout",
     "output_type": "stream",
     "text": [
      "Dataset loaded successfully.\n"
     ]
    },
    {
     "data": {
      "text/html": [
       "<div>\n",
       "<style scoped>\n",
       "    .dataframe tbody tr th:only-of-type {\n",
       "        vertical-align: middle;\n",
       "    }\n",
       "\n",
       "    .dataframe tbody tr th {\n",
       "        vertical-align: top;\n",
       "    }\n",
       "\n",
       "    .dataframe thead th {\n",
       "        text-align: right;\n",
       "    }\n",
       "</style>\n",
       "<table border=\"1\" class=\"dataframe\">\n",
       "  <thead>\n",
       "    <tr style=\"text-align: right;\">\n",
       "      <th></th>\n",
       "      <th>country</th>\n",
       "      <th>year</th>\n",
       "      <th>cereal_yield</th>\n",
       "      <th>fdi_perc_gdp</th>\n",
       "      <th>en_per_gdp</th>\n",
       "      <th>en_per_cap</th>\n",
       "      <th>co2_ttl</th>\n",
       "      <th>co2_per_cap</th>\n",
       "      <th>co2_per_gdp</th>\n",
       "      <th>pop_urb_aggl_perc</th>\n",
       "      <th>prot_area_perc</th>\n",
       "      <th>gdp</th>\n",
       "      <th>gni_per_cap</th>\n",
       "      <th>under_5_mort_rate</th>\n",
       "      <th>pop_growth_perc</th>\n",
       "      <th>pop</th>\n",
       "      <th>urb_pop_growth_perc</th>\n",
       "      <th>urb_pop</th>\n",
       "    </tr>\n",
       "  </thead>\n",
       "  <tbody>\n",
       "    <tr>\n",
       "      <th>0</th>\n",
       "      <td>AGO</td>\n",
       "      <td>1991</td>\n",
       "      <td>417.4</td>\n",
       "      <td>5.449515</td>\n",
       "      <td>179.271884</td>\n",
       "      <td>565.451027</td>\n",
       "      <td>4367.397</td>\n",
       "      <td>0.409949</td>\n",
       "      <td>129.971142</td>\n",
       "      <td>15.290728</td>\n",
       "      <td>12.399822</td>\n",
       "      <td>1.219375e+10</td>\n",
       "      <td>820.0</td>\n",
       "      <td>239.1</td>\n",
       "      <td>3.034866</td>\n",
       "      <td>10653515.0</td>\n",
       "      <td>6.687032</td>\n",
       "      <td>4.099473e+06</td>\n",
       "    </tr>\n",
       "    <tr>\n",
       "      <th>1</th>\n",
       "      <td>ARE</td>\n",
       "      <td>1991</td>\n",
       "      <td>1594.0</td>\n",
       "      <td>0.076475</td>\n",
       "      <td>245.977706</td>\n",
       "      <td>12262.388130</td>\n",
       "      <td>57010.849</td>\n",
       "      <td>29.851550</td>\n",
       "      <td>598.807980</td>\n",
       "      <td>26.377204</td>\n",
       "      <td>0.266886</td>\n",
       "      <td>3.391964e+10</td>\n",
       "      <td>19340.0</td>\n",
       "      <td>20.5</td>\n",
       "      <td>5.442852</td>\n",
       "      <td>1909812.0</td>\n",
       "      <td>5.265704</td>\n",
       "      <td>1.507988e+06</td>\n",
       "    </tr>\n",
       "    <tr>\n",
       "      <th>2</th>\n",
       "      <td>ARG</td>\n",
       "      <td>1991</td>\n",
       "      <td>2666.1</td>\n",
       "      <td>1.285579</td>\n",
       "      <td>173.122857</td>\n",
       "      <td>1434.960601</td>\n",
       "      <td>117021.304</td>\n",
       "      <td>3.536073</td>\n",
       "      <td>426.614517</td>\n",
       "      <td>39.119646</td>\n",
       "      <td>4.772468</td>\n",
       "      <td>1.897200e+11</td>\n",
       "      <td>3960.0</td>\n",
       "      <td>25.8</td>\n",
       "      <td>1.372593</td>\n",
       "      <td>33093579.0</td>\n",
       "      <td>1.762636</td>\n",
       "      <td>2.890393e+07</td>\n",
       "    </tr>\n",
       "    <tr>\n",
       "      <th>3</th>\n",
       "      <td>AUS</td>\n",
       "      <td>1991</td>\n",
       "      <td>1603.3</td>\n",
       "      <td>1.306912</td>\n",
       "      <td>208.686644</td>\n",
       "      <td>4926.727783</td>\n",
       "      <td>281530.258</td>\n",
       "      <td>16.288490</td>\n",
       "      <td>689.948873</td>\n",
       "      <td>60.356798</td>\n",
       "      <td>7.915273</td>\n",
       "      <td>3.299655e+11</td>\n",
       "      <td>18380.0</td>\n",
       "      <td>8.6</td>\n",
       "      <td>1.274577</td>\n",
       "      <td>17284000.0</td>\n",
       "      <td>1.438378</td>\n",
       "      <td>1.478473e+07</td>\n",
       "    </tr>\n",
       "    <tr>\n",
       "      <th>4</th>\n",
       "      <td>AUT</td>\n",
       "      <td>1991</td>\n",
       "      <td>5463.0</td>\n",
       "      <td>0.209142</td>\n",
       "      <td>128.939160</td>\n",
       "      <td>3381.073790</td>\n",
       "      <td>65888.656</td>\n",
       "      <td>8.448456</td>\n",
       "      <td>322.186648</td>\n",
       "      <td>19.746121</td>\n",
       "      <td>20.991143</td>\n",
       "      <td>1.721664e+11</td>\n",
       "      <td>21200.0</td>\n",
       "      <td>8.9</td>\n",
       "      <td>1.134999</td>\n",
       "      <td>7798899.0</td>\n",
       "      <td>1.134999</td>\n",
       "      <td>5.131676e+06</td>\n",
       "    </tr>\n",
       "  </tbody>\n",
       "</table>\n",
       "</div>"
      ],
      "text/plain": [
       "  country  year  cereal_yield  fdi_perc_gdp  en_per_gdp    en_per_cap  \\\n",
       "0     AGO  1991         417.4      5.449515  179.271884    565.451027   \n",
       "1     ARE  1991        1594.0      0.076475  245.977706  12262.388130   \n",
       "2     ARG  1991        2666.1      1.285579  173.122857   1434.960601   \n",
       "3     AUS  1991        1603.3      1.306912  208.686644   4926.727783   \n",
       "4     AUT  1991        5463.0      0.209142  128.939160   3381.073790   \n",
       "\n",
       "      co2_ttl  co2_per_cap  co2_per_gdp  pop_urb_aggl_perc  prot_area_perc  \\\n",
       "0    4367.397     0.409949   129.971142          15.290728       12.399822   \n",
       "1   57010.849    29.851550   598.807980          26.377204        0.266886   \n",
       "2  117021.304     3.536073   426.614517          39.119646        4.772468   \n",
       "3  281530.258    16.288490   689.948873          60.356798        7.915273   \n",
       "4   65888.656     8.448456   322.186648          19.746121       20.991143   \n",
       "\n",
       "            gdp  gni_per_cap  under_5_mort_rate  pop_growth_perc         pop  \\\n",
       "0  1.219375e+10        820.0              239.1         3.034866  10653515.0   \n",
       "1  3.391964e+10      19340.0               20.5         5.442852   1909812.0   \n",
       "2  1.897200e+11       3960.0               25.8         1.372593  33093579.0   \n",
       "3  3.299655e+11      18380.0                8.6         1.274577  17284000.0   \n",
       "4  1.721664e+11      21200.0                8.9         1.134999   7798899.0   \n",
       "\n",
       "   urb_pop_growth_perc       urb_pop  \n",
       "0             6.687032  4.099473e+06  \n",
       "1             5.265704  1.507988e+06  \n",
       "2             1.762636  2.890393e+07  \n",
       "3             1.438378  1.478473e+07  \n",
       "4             1.134999  5.131676e+06  "
      ]
     },
     "execution_count": 2,
     "metadata": {},
     "output_type": "execute_result"
    }
   ],
   "source": [
    "# Replace with your cleaned dataset path if needed\n",
    "data = pd.read_csv('data_cleaned.csv')\n",
    "print(\"Dataset loaded successfully.\")\n",
    "data.head()\n"
   ]
  },
  {
   "cell_type": "markdown",
   "id": "1571f306",
   "metadata": {},
   "source": [
    "### Prepare Features and Target Variable"
   ]
  },
  {
   "cell_type": "code",
   "execution_count": 6,
   "id": "f5806721",
   "metadata": {},
   "outputs": [
    {
     "name": "stdout",
     "output_type": "stream",
     "text": [
      "Training samples: 1360\n",
      "Testing samples: 340\n"
     ]
    }
   ],
   "source": [
    "# ✅ Replace with your actual target column\n",
    "target_column = 'co2_per_cap'  # predicting CO2 emissions per capita\n",
    "\n",
    "X = data.drop(columns=[target_column])\n",
    "y = data[target_column]\n",
    "\n",
    "X_train, X_test, y_train, y_test = train_test_split(X, y, test_size=0.2, random_state=random_state_num)\n",
    "\n",
    "print(f\"Training samples: {X_train.shape[0]}\")\n",
    "print(f\"Testing samples: {X_test.shape[0]}\")\n"
   ]
  },
  {
   "cell_type": "markdown",
   "id": "84b9f911",
   "metadata": {},
   "source": [
    "### Model Initialization and Training"
   ]
  },
  {
   "cell_type": "code",
   "execution_count": 11,
   "id": "e1daec90",
   "metadata": {},
   "outputs": [
    {
     "name": "stdout",
     "output_type": "stream",
     "text": [
      "✅ Training samples: 1360\n",
      "✅ Testing samples: 340\n",
      "✅ Model training completed in 0.41 seconds 🚀\n"
     ]
    }
   ],
   "source": [
    "# Correct target column\n",
    "target_column = 'co2_per_cap'  # or your actual numeric target\n",
    "\n",
    "# Prepare X and y\n",
    "X = data.drop(columns=[target_column]).select_dtypes(include=['number'])\n",
    "y = data[target_column]\n",
    "\n",
    "# Split data\n",
    "X_train, X_test, y_train, y_test = train_test_split(\n",
    "    X, y, test_size=0.2, random_state=random_state_num\n",
    ")\n",
    "\n",
    "print(f\"✅ Training samples: {X_train.shape[0]}\")\n",
    "print(f\"✅ Testing samples: {X_test.shape[0]}\")\n",
    "\n",
    "# Train model\n",
    "start_time = time.time()\n",
    "\n",
    "rf = RandomForestRegressor(\n",
    "    n_estimators=100,\n",
    "    random_state=random_state_num,\n",
    "    n_jobs=-1\n",
    ")\n",
    "\n",
    "rf.fit(X_train, y_train)\n",
    "\n",
    "end_time = time.time()\n",
    "print(f\"✅ Model training completed in {end_time - start_time:.2f} seconds 🚀\")\n"
   ]
  },
  {
   "cell_type": "markdown",
   "id": "1ffba0a7",
   "metadata": {},
   "source": [
    "### Prediction and Model Evaluation"
   ]
  },
  {
   "cell_type": "code",
   "execution_count": 16,
   "id": "320157da",
   "metadata": {},
   "outputs": [
    {
     "name": "stdout",
     "output_type": "stream",
     "text": [
      "✅ RMSE: 0.4643\n",
      "✅ MAE: 0.2103\n",
      "✅ R² Score: 0.9911\n"
     ]
    }
   ],
   "source": [
    "from sklearn.metrics import mean_squared_error, mean_absolute_error, r2_score\n",
    "\n",
    "y_pred = rf.predict(X_test)\n",
    "\n",
    "rmse = mean_squared_error(y_test, y_pred) ** 0.5  # compute RMSE manually\n",
    "mae = mean_absolute_error(y_test, y_pred)\n",
    "r2 = r2_score(y_test, y_pred)\n",
    "\n",
    "print(f\"✅ RMSE: {rmse:.4f}\")\n",
    "print(f\"✅ MAE: {mae:.4f}\")\n",
    "print(f\"✅ R² Score: {r2:.4f}\")\n"
   ]
  },
  {
   "cell_type": "markdown",
   "id": "abc9d529",
   "metadata": {},
   "source": [
    "### Actual vs Predicted Visualization"
   ]
  },
  {
   "cell_type": "code",
   "execution_count": 13,
   "id": "11a260b4",
   "metadata": {},
   "outputs": [
    {
     "data": {
      "image/png": "[encoded data removed]",
      "text/plain": [
       "<Figure size 800x600 with 1 Axes>"
      ]
     },
     "metadata": {},
     "output_type": "display_data"
    }
   ],
   "source": [
    "plt.figure(figsize=(8,6))\n",
    "sns.scatterplot(x=y_test, y=y_pred, alpha=0.7)\n",
    "plt.xlabel('Actual')\n",
    "plt.ylabel('Predicted')\n",
    "plt.title('Actual vs Predicted')\n",
    "plt.plot([y_test.min(), y_test.max()], [y_test.min(), y_test.max()], 'r--')\n",
    "plt.show()\n"
   ]
  },
  {
   "cell_type": "markdown",
   "id": "22601738",
   "metadata": {},
   "source": [
    "### Feature Importance"
   ]
  },
  {
   "cell_type": "code",
   "execution_count": 14,
   "id": "8007378c",
   "metadata": {},
   "outputs": [
    {
     "name": "stderr",
     "output_type": "stream",
     "text": [
      "C:\\Users\\deepi\\AppData\\Local\\Temp\\ipykernel_21396\\2316945379.py:6: FutureWarning: \n",
      "\n",
      "Passing `palette` without assigning `hue` is deprecated and will be removed in v0.14.0. Assign the `y` variable to `hue` and set `legend=False` for the same effect.\n",
      "\n",
      "  sns.barplot(x=importances[indices], y=X.columns[indices], palette=\"viridis\")\n"
     ]
    },
    {
     "data": {
      "image/png": "[encoded data removed]",
      "text/plain": [
       "<Figure size 1000x600 with 1 Axes>"
      ]
     },
     "metadata": {},
     "output_type": "display_data"
    }
   ],
   "source": [
    "importances = rf.feature_importances_\n",
    "indices = np.argsort(importances)[::-1]\n",
    "\n",
    "plt.figure(figsize=(10,6))\n",
    "plt.title(\"Feature Importances\")\n",
    "sns.barplot(x=importances[indices], y=X.columns[indices], palette=\"viridis\")\n",
    "plt.show()\n"
   ]
  },
  {
   "cell_type": "markdown",
   "id": "9555c92d",
   "metadata": {},
   "source": [
    "### Cross-validation (5-Fold) for Robust Evaluation"
   ]
  },
  {
   "cell_type": "code",
   "execution_count": 15,
   "id": "ca78ce45",
   "metadata": {},
   "outputs": [
    {
     "name": "stdout",
     "output_type": "stream",
     "text": [
      "Cross-validation R² scores: [0.94021348 0.9582526  0.97921334 0.98848927 0.98069527]\n",
      "Mean CV R² score: 0.9693727914365777\n"
     ]
    }
   ],
   "source": [
    "cv_scores = cross_val_score(rf, X, y, cv=5, scoring='r2')\n",
    "print(\"Cross-validation R² scores:\", cv_scores)\n",
    "print(\"Mean CV R² score:\", np.mean(cv_scores))\n"
   ]
  }
 ],
 "metadata": {
  "kernelspec": {
   "display_name": "Python 3",
   "language": "python",
   "name": "python3"
  },
  "language_info": {
   "codemirror_mode": {
    "name": "ipython",
    "version": 3
   },
   "file_extension": ".py",
   "mimetype": "text/x-python",
   "name": "python",
   "nbconvert_exporter": "python",
   "pygments_lexer": "ipython3",
   "version": "3.11.9"
  }
 },
 "nbformat": 4,
 "nbformat_minor": 5
}
